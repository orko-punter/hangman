{
 "cells": [
  {
   "cell_type": "code",
   "execution_count": null,
   "metadata": {},
   "outputs": [],
   "source": [
    "import random as rd\n",
    "file = open(\"My fav movies.txt\")\n",
    "copy = file.read()\n",
    "list = copy.split('\\n')\n",
    "choice = 'Y'\n",
    "while choice=='Y' or choice=='y':\n",
    "    str1 = rd.choice(list)\n",
    "    #print(str1)\n",
    "    length = len(str1) - str1.count(' ')\n",
    "    #print(length)\n",
    "    str2 = str1.split(' ')\n",
    "    #print(str2)\n",
    "    str3 = ''\n",
    "    for elts in str2:\n",
    "        for i in elts:\n",
    "            if i.lower() in ['a', 'e', 'i', 'o', 'u']:\n",
    "                length = length-1\n",
    "                #print(i,end='')\n",
    "                str3 = str3 + i\n",
    "            else :\n",
    "                #print(\"-\",end='')\n",
    "                str3 = str3 + '-'\n",
    "        print(\"  \",end='')\n",
    "        str3 = str3 + ' '\n",
    "    #print(\"length without vowels:\",length)\n",
    "    str3 = str3.strip()\n",
    "    print(\"your movie looks like this, starting index is 1 and include blank spaces while counting the index -:\")\n",
    "    print(str3)\n",
    "    j=8\n",
    "    stringif = \"\"\n",
    "    while j>0 and length>0:\n",
    "        ch = input(\"guess character wisely : \")\n",
    "                \n",
    "        if ch in stringif:\n",
    "            print(\"already entered character, choose something else\")\n",
    "        elif ch.lower() in ['a','e','i','o','u']:\n",
    "            print(\"enter again and not a vowel please\")        \n",
    "        elif ch.lower() in str1.lower():\n",
    "            print(\"correct guess shaktimaan, jai Guruji Ki\")\n",
    "            print(\"points you stand to make: \",j)\n",
    "            stringif = stringif + ch\n",
    "            for pos, char in enumerate(str1.lower()):\n",
    "                if char == ch.lower():\n",
    "                    str3 = str3[:pos]+ch+str3[pos+1:]\n",
    "                    #print(\"current status after your correct response: \",str3)\n",
    "                    length = length -1\n",
    "            print(\"current status after your correct response: \",str3)\n",
    "        else:\n",
    "            stringif = stringif + ch\n",
    "            print(\"wrong choice, points deducted\")\n",
    "            print(\"current status after your inrcorrect response: \",str3)\n",
    "            j = j-1\n",
    "            print(\"points you stand to make: \",j)\n",
    "    if j==0:\n",
    "        print(\"you lost\")\n",
    "    else:\n",
    "        print(\"you won with\",j,\"points\")\n",
    "    print(\"the movie was - : \",str1)\n",
    "    print(\"\\n\")\n",
    "    choice=input(\"wanna play more?Y/N : \")"
   ]
  },
  {
   "cell_type": "code",
   "execution_count": null,
   "metadata": {},
   "outputs": [],
   "source": []
  },
  {
   "cell_type": "code",
   "execution_count": null,
   "metadata": {},
   "outputs": [],
   "source": []
  },
  {
   "cell_type": "code",
   "execution_count": null,
   "metadata": {},
   "outputs": [],
   "source": []
  },
  {
   "cell_type": "code",
   "execution_count": null,
   "metadata": {},
   "outputs": [],
   "source": []
  },
  {
   "cell_type": "code",
   "execution_count": null,
   "metadata": {},
   "outputs": [],
   "source": []
  },
  {
   "cell_type": "code",
   "execution_count": null,
   "metadata": {},
   "outputs": [],
   "source": []
  },
  {
   "cell_type": "code",
   "execution_count": null,
   "metadata": {},
   "outputs": [],
   "source": []
  },
  {
   "cell_type": "code",
   "execution_count": null,
   "metadata": {},
   "outputs": [],
   "source": []
  },
  {
   "cell_type": "code",
   "execution_count": null,
   "metadata": {},
   "outputs": [],
   "source": []
  }
 ],
 "metadata": {
  "kernelspec": {
   "display_name": "Python 3",
   "language": "python",
   "name": "python3"
  },
  "language_info": {
   "codemirror_mode": {
    "name": "ipython",
    "version": 3
   },
   "file_extension": ".py",
   "mimetype": "text/x-python",
   "name": "python",
   "nbconvert_exporter": "python",
   "pygments_lexer": "ipython3",
   "version": "3.6.5"
  }
 },
 "nbformat": 4,
 "nbformat_minor": 2
}
